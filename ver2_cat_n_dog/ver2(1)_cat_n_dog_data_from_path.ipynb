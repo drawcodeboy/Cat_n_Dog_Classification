{
  "nbformat": 4,
  "nbformat_minor": 0,
  "metadata": {
    "colab": {
      "provenance": [],
      "machine_shape": "hm",
      "mount_file_id": "1jXAhSiLxNBzs1GGY0SkIv4CzaHC-jC4o",
      "authorship_tag": "ABX9TyPt8AJUAVRyBqFKkXSK92Fl",
      "include_colab_link": true
    },
    "kernelspec": {
      "name": "python3",
      "display_name": "Python 3"
    },
    "language_info": {
      "name": "python"
    },
    "gpuClass": "standard"
  },
  "cells": [
    {
      "cell_type": "markdown",
      "metadata": {
        "id": "view-in-github",
        "colab_type": "text"
      },
      "source": [
        "<a href=\"https://colab.research.google.com/github/drawcodeboy/Cat_n_Dog_Classification/blob/main/ver2(1)_cat_n_dog_data_from_path.ipynb\" target=\"_parent\"><img src=\"https://colab.research.google.com/assets/colab-badge.svg\" alt=\"Open In Colab\"/></a>"
      ]
    },
    {
      "cell_type": "code",
      "source": [
        "from google.colab import drive\n",
        "drive.mount('/content/drive')"
      ],
      "metadata": {
        "colab": {
          "base_uri": "https://localhost:8080/"
        },
        "id": "uMXdA9nqg_Ml",
        "outputId": "b08b11a9-60b2-4e16-c7c4-6c35eb7161f0"
      },
      "execution_count": 1,
      "outputs": [
        {
          "output_type": "stream",
          "name": "stdout",
          "text": [
            "Drive already mounted at /content/drive; to attempt to forcibly remount, call drive.mount(\"/content/drive\", force_remount=True).\n"
          ]
        }
      ]
    },
    {
      "cell_type": "code",
      "source": [
        "import tensorflow as tf\n",
        "import tensorflow_datasets as tfds\n",
        "from tensorflow import keras\n",
        "import matplotlib.pyplot as plt\n",
        "import numpy as np\n",
        "import os\n",
        "from PIL import Image"
      ],
      "metadata": {
        "id": "zBC0oQFYhmKR"
      },
      "execution_count": 2,
      "outputs": []
    },
    {
      "cell_type": "code",
      "source": [
        "train_path = '/content/drive/MyDrive/cat_n_dog/training_set/training_set'\n",
        "test_path = '/content/drive/MyDrive/cat_n_dog/test_set/test_set'"
      ],
      "metadata": {
        "id": "Bajmn7huh6QF"
      },
      "execution_count": 3,
      "outputs": []
    },
    {
      "cell_type": "code",
      "source": [
        "train_list = []\n",
        "train_target = []\n",
        "\n",
        "for dirname, _, filenames in os.walk(train_path):\n",
        "    for filename in filenames:\n",
        "        if(filename.endswith('jpg')):\n",
        "            if(filename[0] == 'c'):\n",
        "                train_target.append(0)\n",
        "            elif(filename[0] == 'd'):\n",
        "                train_target.append(1)\n",
        "            train_count = os.path.join(dirname, filename)\n",
        "            train_list.append(train_count)"
      ],
      "metadata": {
        "id": "oY_9QAUciJqe"
      },
      "execution_count": 4,
      "outputs": []
    },
    {
      "cell_type": "code",
      "source": [
        "test_list = []\n",
        "test_target = []\n",
        "\n",
        "for dirname, _, filenames in os.walk(test_path):\n",
        "    for filename in filenames:\n",
        "        if(filename.endswith('jpg')):\n",
        "            if(filename[0] == 'c'):\n",
        "                test_target.append(0)\n",
        "            elif(filename[0] == 'd'):\n",
        "                test_target.append(1)\n",
        "            test_count = os.path.join(dirname, filename)\n",
        "            test_list.append(test_count)"
      ],
      "metadata": {
        "id": "nC1KXprQiQJz"
      },
      "execution_count": 5,
      "outputs": []
    },
    {
      "cell_type": "code",
      "source": [
        "from tensorflow.keras.preprocessing import image\n",
        "\n",
        "train_set = []\n",
        "\n",
        "for i, f in enumerate(train_list):\n",
        "    img = image.load_img(f)\n",
        "    img_np = np.array(img)\n",
        "    train_set.append(img_np)"
      ],
      "metadata": {
        "id": "W92jdWa_j_0h"
      },
      "execution_count": 6,
      "outputs": []
    },
    {
      "cell_type": "code",
      "source": [
        "test_set = []\n",
        "\n",
        "for i, f in enumerate(test_list):\n",
        "    img = image.load_img(f)\n",
        "    img_np = np.array(img)\n",
        "    test_set.append(img_np)"
      ],
      "metadata": {
        "id": "An3Nw_3an7KI"
      },
      "execution_count": 7,
      "outputs": []
    },
    {
      "cell_type": "code",
      "source": [
        "train_set_np = np.array(train_set)\n",
        "test_set_np = np.array(test_set)\n",
        "train_target_np = np.array(train_target)\n",
        "test_target_np = np.array(test_target)\n",
        "\n",
        "np.save('/content/drive/MyDrive/cat_n_dog/data_numpy/train_set', train_set_np)\n",
        "np.save('/content/drive/MyDrive/cat_n_dog/data_numpy/test_set', test_set_np)\n",
        "np.save('/content/drive/MyDrive/cat_n_dog/data_numpy/train_target', train_target_np)\n",
        "np.save('/content/drive/MyDrive/cat_n_dog/data_numpy/test_target', test_target_np)"
      ],
      "metadata": {
        "id": "_zEijbJfo3M6",
        "colab": {
          "base_uri": "https://localhost:8080/",
          "height": 53
        },
        "outputId": "af70b985-3b91-427b-c87a-b474dce86359"
      },
      "execution_count": 8,
      "outputs": [
        {
          "output_type": "execute_result",
          "data": {
            "text/plain": [
              "\"\\ntrain_set_np = np.array(train_set)\\ntest_set_np = np.array(test_set)\\ntrain_target_np = np.array(train_target)\\ntest_target_np = np.array(test_target)\\n\\nnp.save('/content/drive/MyDrive/cat_n_dog/data_numpy/train_set', train_set_np)\\nnp.save('/content/drive/MyDrive/cat_n_dog/data_numpy/test_set', test_set_np)\\nnp.save('/content/drive/MyDrive/cat_n_dog/data_numpy/train_target', train_target_np)\\nnp.save('/content/drive/MyDrive/cat_n_dog/data_numpy/test_target', test_target_np)\\n\""
            ],
            "application/vnd.google.colaboratory.intrinsic+json": {
              "type": "string"
            }
          },
          "metadata": {},
          "execution_count": 8
        }
      ]
    }
  ]
}
